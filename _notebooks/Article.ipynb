{
 "cells": [
  {
   "cell_type": "markdown",
   "metadata": {},
   "source": [
    "# \"Does reducing numerical precision affect real world datasets?\"\n",
    "> \"Reducing numerical precision is a way to save memory in pandas, but does it make a difference to the conclusions that we might draw from real world datasets?\"\n",
    "\n",
    "- toc: true\n",
    "- badges: false\n",
    "- comments: false\n",
    "- author: Martin\n",
    "- categories: [pandas, numpy, kaggle]"
   ]
  },
  {
   "cell_type": "markdown",
   "metadata": {},
   "source": [
    "### Executive summary\n",
    "\n",
    "Switching from 64 bit to 32 bit precision for floating point data in pandas saves memory and has virtually no effect on the data, as long as the values aren't greater than around 10<sup>300</sup> \n",
    "\n",
    "### Slightly longer summary\n",
    "\n",
    "- I wrote code to download ~1,000 real world datasets from kaggle and look at summary statistics and linear regressions of floating point columns in both 64 and 32 bit precision\n",
    "- The final analysis involved ~1,000 datasets, ~8,000 data files, ~500,000,000 individual floating point values and ~500,000 linear regressions. \n",
    "- Changing to 32 bit precision introduced a mean proportional error of around 10<sup>-8</sup> in the summary statistics, with the worst affected columns having a proportional error of around 10<sup>-6</sup>\n",
    "- For linear regressions, the mean proportional change in slope and intercept was on the order of 10<sup>-6</sup>\n",
    "- A small number of outliers with near-zero slope (representing uninteresting relationships) had larger proportional errors\n",
    "- In ~400,000 valid linear regressions I was unable to find any relationships whose significance at the 5% level was changed by moving from 64 to 32 bit precision\n",
    "- For real world datasets, switching from 64 to 32 bit floating point precision is overwhelmingly unlikely to alter our conclusions about the data, and is an easy way to reduce memory usage. \n",
    "\n",
    "\n",
    "## Introduction\n",
    "\n",
    "As you've probably noticed, this is a longish article, so grab a cup of coffee if you're planning to read it all. If you're already familiar with floating point precision and error in pandas you can probably skip part one. Most of the methods stuff is in part two, so if you just want to see the results, skip to part three. Also, just to head off the obvious criticism, I think that most of the conclusions of this article could have been arrived at by pure reasoning, without looking at any data at all. But hopefully some folks will, like me, be more satisfied by empirical data :-)\n",
    "\n",
    "Obviously, I think that pandas is wonderful :-) But it has a number of quirks, among them a reputation for being memory hungry. There are no shortage of articles online discussing how to fit large dataframes in memory, and there are a number of well established techniques (there's a whole chapter on the subject in the [Drawing from Data book](https://drawingfromdata.com/book/), and also an extended discussion in the car accidents dataset video). \n",
    "\n",
    "One technique that always gets mentioned is storing numbers in a reduced precision data type. This is usually proposed as one of the last things to try after other options have been exhausted. I think there are a couple of reasons for this. One is that messing about with data types is a bit harder to explain than simple things like ignoring unneeded columns. Another is that deliberately throwing away information - which is what reducing precision will do - feels very uncomfortable from a data analysis point of view!\n",
    "\n",
    "One thing that I've rarely seen in such discussions is a measurement of how much of an effect reduced precision will have in real life datasets. This is surprising, since pandas makes it very easy to measure. So let's go ahead and try it...\n",
    "\n",
    "## Part one: changing data types and measuring differences\n",
    "\n",
    "Before we dive in, a quick reminder of the pandas tools we'll use. All of the methods etc. are described in detail in the [Drawing from Data book](https://drawingfromdata.com/book/), so we'll limit ourselves here to an overview. \n",
    "\n",
    "As an example, let's load the planets dataset:"
   ]
  },
  {
   "cell_type": "code",
   "execution_count": 1,
   "metadata": {},
   "outputs": [
    {
     "data": {
      "text/html": [
       "<div>\n",
       "<style scoped>\n",
       "    .dataframe tbody tr th:only-of-type {\n",
       "        vertical-align: middle;\n",
       "    }\n",
       "\n",
       "    .dataframe tbody tr th {\n",
       "        vertical-align: top;\n",
       "    }\n",
       "\n",
       "    .dataframe thead th {\n",
       "        text-align: right;\n",
       "    }\n",
       "</style>\n",
       "<table border=\"1\" class=\"dataframe\">\n",
       "  <thead>\n",
       "    <tr style=\"text-align: right;\">\n",
       "      <th></th>\n",
       "      <th>method</th>\n",
       "      <th>number</th>\n",
       "      <th>...</th>\n",
       "      <th>distance</th>\n",
       "      <th>year</th>\n",
       "    </tr>\n",
       "  </thead>\n",
       "  <tbody>\n",
       "    <tr>\n",
       "      <th>0</th>\n",
       "      <td>Radial Velocity</td>\n",
       "      <td>1</td>\n",
       "      <td>...</td>\n",
       "      <td>77.40</td>\n",
       "      <td>2006</td>\n",
       "    </tr>\n",
       "    <tr>\n",
       "      <th>1</th>\n",
       "      <td>Radial Velocity</td>\n",
       "      <td>1</td>\n",
       "      <td>...</td>\n",
       "      <td>56.95</td>\n",
       "      <td>2008</td>\n",
       "    </tr>\n",
       "    <tr>\n",
       "      <th>2</th>\n",
       "      <td>Radial Velocity</td>\n",
       "      <td>1</td>\n",
       "      <td>...</td>\n",
       "      <td>19.84</td>\n",
       "      <td>2011</td>\n",
       "    </tr>\n",
       "    <tr>\n",
       "      <th>3</th>\n",
       "      <td>Radial Velocity</td>\n",
       "      <td>1</td>\n",
       "      <td>...</td>\n",
       "      <td>110.62</td>\n",
       "      <td>2007</td>\n",
       "    </tr>\n",
       "    <tr>\n",
       "      <th>4</th>\n",
       "      <td>Radial Velocity</td>\n",
       "      <td>1</td>\n",
       "      <td>...</td>\n",
       "      <td>119.47</td>\n",
       "      <td>2009</td>\n",
       "    </tr>\n",
       "    <tr>\n",
       "      <th>...</th>\n",
       "      <td>...</td>\n",
       "      <td>...</td>\n",
       "      <td>...</td>\n",
       "      <td>...</td>\n",
       "      <td>...</td>\n",
       "    </tr>\n",
       "    <tr>\n",
       "      <th>1030</th>\n",
       "      <td>Transit</td>\n",
       "      <td>1</td>\n",
       "      <td>...</td>\n",
       "      <td>172.00</td>\n",
       "      <td>2006</td>\n",
       "    </tr>\n",
       "    <tr>\n",
       "      <th>1031</th>\n",
       "      <td>Transit</td>\n",
       "      <td>1</td>\n",
       "      <td>...</td>\n",
       "      <td>148.00</td>\n",
       "      <td>2007</td>\n",
       "    </tr>\n",
       "    <tr>\n",
       "      <th>1032</th>\n",
       "      <td>Transit</td>\n",
       "      <td>1</td>\n",
       "      <td>...</td>\n",
       "      <td>174.00</td>\n",
       "      <td>2007</td>\n",
       "    </tr>\n",
       "    <tr>\n",
       "      <th>1033</th>\n",
       "      <td>Transit</td>\n",
       "      <td>1</td>\n",
       "      <td>...</td>\n",
       "      <td>293.00</td>\n",
       "      <td>2008</td>\n",
       "    </tr>\n",
       "    <tr>\n",
       "      <th>1034</th>\n",
       "      <td>Transit</td>\n",
       "      <td>1</td>\n",
       "      <td>...</td>\n",
       "      <td>260.00</td>\n",
       "      <td>2008</td>\n",
       "    </tr>\n",
       "  </tbody>\n",
       "</table>\n",
       "<p>1035 rows × 6 columns</p>\n",
       "</div>"
      ],
      "text/plain": [
       "               method  number  ...  distance  year\n",
       "0     Radial Velocity       1  ...     77.40  2006\n",
       "1     Radial Velocity       1  ...     56.95  2008\n",
       "2     Radial Velocity       1  ...     19.84  2011\n",
       "3     Radial Velocity       1  ...    110.62  2007\n",
       "4     Radial Velocity       1  ...    119.47  2009\n",
       "...               ...     ...  ...       ...   ...\n",
       "1030          Transit       1  ...    172.00  2006\n",
       "1031          Transit       1  ...    148.00  2007\n",
       "1032          Transit       1  ...    174.00  2007\n",
       "1033          Transit       1  ...    293.00  2008\n",
       "1034          Transit       1  ...    260.00  2008\n",
       "\n",
       "[1035 rows x 6 columns]"
      ]
     },
     "execution_count": 1,
     "metadata": {},
     "output_type": "execute_result"
    }
   ],
   "source": [
    "import pandas as pd\n",
    "pd.options.display.max_columns=4\n",
    "\n",
    "planets = pd.read_csv('https://raw.githubusercontent.com/mwaskom/seaborn-data/master/planets.csv')\n",
    "planets"
   ]
  },
  {
   "cell_type": "markdown",
   "metadata": {},
   "source": [
    "which stores information about planets that have been discovered around other stars. We are interested in the orbital period column, which we'll store in a variable for convenience:"
   ]
  },
  {
   "cell_type": "code",
   "execution_count": 2,
   "metadata": {},
   "outputs": [
    {
     "data": {
      "text/plain": [
       "0       269.300000\n",
       "1       874.774000\n",
       "2       763.000000\n",
       "3       326.030000\n",
       "4       516.220000\n",
       "           ...    \n",
       "1030      3.941507\n",
       "1031      2.615864\n",
       "1032      3.191524\n",
       "1033      4.125083\n",
       "1034      4.187757\n",
       "Name: orbital_period, Length: 1035, dtype: float64"
      ]
     },
     "execution_count": 2,
     "metadata": {},
     "output_type": "execute_result"
    }
   ],
   "source": [
    "op = planets['orbital_period']\n",
    "op"
   ]
  },
  {
   "cell_type": "markdown",
   "metadata": {},
   "source": [
    "which tells us how long each planet takes to revolve around its host star. Because it's comprised of floating point numbers, it get the `float64` data type by default. To change the data type, we can just use the `as_type` method. Let's try `float32`:"
   ]
  },
  {
   "cell_type": "code",
   "execution_count": 3,
   "metadata": {},
   "outputs": [
    {
     "data": {
      "text/plain": [
       "0       269.299988\n",
       "1       874.773987\n",
       "2       763.000000\n",
       "3       326.029999\n",
       "4       516.219971\n",
       "           ...    \n",
       "1030      3.941507\n",
       "1031      2.615864\n",
       "1032      3.191524\n",
       "1033      4.125083\n",
       "1034      4.187757\n",
       "Name: orbital_period, Length: 1035, dtype: float32"
      ]
     },
     "execution_count": 3,
     "metadata": {},
     "output_type": "execute_result"
    }
   ],
   "source": [
    "op.astype('float32')"
   ]
  },
  {
   "cell_type": "markdown",
   "metadata": {},
   "source": [
    "All we need to know about these two data types is that, as the names suggest, a single `float64` value uses 64 bits of memory, whereas a `float32` uses, you guessed it, 32 bits. So it comes as no great surprise that the memory usage of the `float32` version is very close to half that of the `float64` version:"
   ]
  },
  {
   "cell_type": "code",
   "execution_count": 4,
   "metadata": {},
   "outputs": [
    {
     "data": {
      "text/plain": [
       "(8408, 4268)"
      ]
     },
     "execution_count": 4,
     "metadata": {},
     "output_type": "execute_result"
    }
   ],
   "source": [
    "op.memory_usage(), op.astype('float32').memory_usage()"
   ]
  },
  {
   "cell_type": "markdown",
   "metadata": {},
   "source": [
    "As well as a difference in memory usage, we can see from the output above that there are slight differences in the values themselves. This is perhaps easiest to see if we put the two series next to each other:"
   ]
  },
  {
   "cell_type": "code",
   "execution_count": 5,
   "metadata": {},
   "outputs": [
    {
     "data": {
      "text/html": [
       "<div>\n",
       "<style scoped>\n",
       "    .dataframe tbody tr th:only-of-type {\n",
       "        vertical-align: middle;\n",
       "    }\n",
       "\n",
       "    .dataframe tbody tr th {\n",
       "        vertical-align: top;\n",
       "    }\n",
       "\n",
       "    .dataframe thead th {\n",
       "        text-align: right;\n",
       "    }\n",
       "</style>\n",
       "<table border=\"1\" class=\"dataframe\">\n",
       "  <thead>\n",
       "    <tr style=\"text-align: right;\">\n",
       "      <th></th>\n",
       "      <th>orbital_period</th>\n",
       "      <th>orbital_period</th>\n",
       "    </tr>\n",
       "  </thead>\n",
       "  <tbody>\n",
       "    <tr>\n",
       "      <th>0</th>\n",
       "      <td>269.300000</td>\n",
       "      <td>269.299988</td>\n",
       "    </tr>\n",
       "    <tr>\n",
       "      <th>1</th>\n",
       "      <td>874.774000</td>\n",
       "      <td>874.773987</td>\n",
       "    </tr>\n",
       "    <tr>\n",
       "      <th>2</th>\n",
       "      <td>763.000000</td>\n",
       "      <td>763.000000</td>\n",
       "    </tr>\n",
       "    <tr>\n",
       "      <th>3</th>\n",
       "      <td>326.030000</td>\n",
       "      <td>326.029999</td>\n",
       "    </tr>\n",
       "    <tr>\n",
       "      <th>4</th>\n",
       "      <td>516.220000</td>\n",
       "      <td>516.219971</td>\n",
       "    </tr>\n",
       "    <tr>\n",
       "      <th>...</th>\n",
       "      <td>...</td>\n",
       "      <td>...</td>\n",
       "    </tr>\n",
       "    <tr>\n",
       "      <th>1030</th>\n",
       "      <td>3.941507</td>\n",
       "      <td>3.941507</td>\n",
       "    </tr>\n",
       "    <tr>\n",
       "      <th>1031</th>\n",
       "      <td>2.615864</td>\n",
       "      <td>2.615864</td>\n",
       "    </tr>\n",
       "    <tr>\n",
       "      <th>1032</th>\n",
       "      <td>3.191524</td>\n",
       "      <td>3.191524</td>\n",
       "    </tr>\n",
       "    <tr>\n",
       "      <th>1033</th>\n",
       "      <td>4.125083</td>\n",
       "      <td>4.125083</td>\n",
       "    </tr>\n",
       "    <tr>\n",
       "      <th>1034</th>\n",
       "      <td>4.187757</td>\n",
       "      <td>4.187757</td>\n",
       "    </tr>\n",
       "  </tbody>\n",
       "</table>\n",
       "<p>1035 rows × 2 columns</p>\n",
       "</div>"
      ],
      "text/plain": [
       "      orbital_period  orbital_period\n",
       "0         269.300000      269.299988\n",
       "1         874.774000      874.773987\n",
       "2         763.000000      763.000000\n",
       "3         326.030000      326.029999\n",
       "4         516.220000      516.219971\n",
       "...              ...             ...\n",
       "1030        3.941507        3.941507\n",
       "1031        2.615864        2.615864\n",
       "1032        3.191524        3.191524\n",
       "1033        4.125083        4.125083\n",
       "1034        4.187757        4.187757\n",
       "\n",
       "[1035 rows x 2 columns]"
      ]
     },
     "execution_count": 5,
     "metadata": {},
     "output_type": "execute_result"
    }
   ],
   "source": [
    "pd.concat([op, op.astype('float32')], axis=1)"
   ]
  },
  {
   "cell_type": "markdown",
   "metadata": {},
   "source": [
    "To figure out how different the two series are, pandas makes it easy to just take the difference:"
   ]
  },
  {
   "cell_type": "code",
   "execution_count": 6,
   "metadata": {},
   "outputs": [
    {
     "data": {
      "text/plain": [
       "0      -1.220703e-05\n",
       "1      -1.318359e-05\n",
       "2       0.000000e+00\n",
       "3      -1.220703e-06\n",
       "4      -2.929688e-05\n",
       "            ...     \n",
       "1030    1.264038e-08\n",
       "1031    3.846741e-08\n",
       "1032   -1.096405e-07\n",
       "1033    1.696655e-07\n",
       "1034    1.522827e-08\n",
       "Name: orbital_period, Length: 1035, dtype: float64"
      ]
     },
     "execution_count": 6,
     "metadata": {},
     "output_type": "execute_result"
    }
   ],
   "source": [
    "op.astype('float32') - op"
   ]
  },
  {
   "cell_type": "markdown",
   "metadata": {},
   "source": [
    "It's probably more useful to view these as absolute difference, i.e. to ignore the sign:"
   ]
  },
  {
   "cell_type": "code",
   "execution_count": 7,
   "metadata": {},
   "outputs": [
    {
     "data": {
      "text/plain": [
       "0       1.220703e-05\n",
       "1       1.318359e-05\n",
       "2       0.000000e+00\n",
       "3       1.220703e-06\n",
       "4       2.929688e-05\n",
       "            ...     \n",
       "1030    1.264038e-08\n",
       "1031    3.846741e-08\n",
       "1032    1.096405e-07\n",
       "1033    1.696655e-07\n",
       "1034    1.522827e-08\n",
       "Name: orbital_period, Length: 1035, dtype: float64"
      ]
     },
     "execution_count": 7,
     "metadata": {},
     "output_type": "execute_result"
    }
   ],
   "source": [
    "(op.astype('float32') - op).abs()"
   ]
  },
  {
   "cell_type": "markdown",
   "metadata": {},
   "source": [
    "Now we can look at a summary:"
   ]
  },
  {
   "cell_type": "code",
   "execution_count": 8,
   "metadata": {},
   "outputs": [
    {
     "data": {
      "text/plain": [
       "count    9.920000e+02\n",
       "mean     3.887688e-06\n",
       "std      1.556957e-05\n",
       "min      0.000000e+00\n",
       "25%      1.572113e-08\n",
       "50%      1.246643e-07\n",
       "75%      1.220703e-06\n",
       "max      1.953125e-04\n",
       "Name: orbital_period, dtype: float64"
      ]
     },
     "execution_count": 8,
     "metadata": {},
     "output_type": "execute_result"
    }
   ],
   "source": [
    "(op.astype('float32') - op).abs().describe()"
   ]
  },
  {
   "cell_type": "markdown",
   "metadata": {},
   "source": [
    "The general picture here is that the change from `float64` to `float32` has made very little difference to the values. On average, it introduces an absolute error of around 4x10<sup>-6</sup>, or 0.000004, and the single worst-case value has an absolute error of about 0.0002. These errors are very small relative to the range of the original values:"
   ]
  },
  {
   "cell_type": "code",
   "execution_count": 9,
   "metadata": {},
   "outputs": [
    {
     "data": {
      "text/plain": [
       "count       992.000000\n",
       "mean       2002.917596\n",
       "std       26014.728304\n",
       "min           0.090706\n",
       "25%           5.442540\n",
       "50%          39.979500\n",
       "75%         526.005000\n",
       "max      730000.000000\n",
       "Name: orbital_period, dtype: float64"
      ]
     },
     "execution_count": 9,
     "metadata": {},
     "output_type": "execute_result"
    }
   ],
   "source": [
    "op.describe()"
   ]
  },
  {
   "cell_type": "markdown",
   "metadata": {},
   "source": [
    "### Proportional differences\n",
    "\n",
    "If we wanted to compare the errors meaningfully across multiple different datasets, it might be useful to look at the error as a proportion of the original values:"
   ]
  },
  {
   "cell_type": "code",
   "execution_count": 10,
   "metadata": {},
   "outputs": [
    {
     "data": {
      "text/plain": [
       "count    9.920000e+02\n",
       "mean     1.733438e-08\n",
       "std      1.494138e-08\n",
       "min      0.000000e+00\n",
       "25%      2.540837e-09\n",
       "50%      1.536689e-08\n",
       "75%      2.830340e-08\n",
       "max      5.878977e-08\n",
       "Name: orbital_period, dtype: float64"
      ]
     },
     "execution_count": 10,
     "metadata": {},
     "output_type": "execute_result"
    }
   ],
   "source": [
    "((op.astype('float32') - op).abs() / op).describe()"
   ]
  },
  {
   "cell_type": "markdown",
   "metadata": {},
   "source": [
    "This calculation is a bit more involved, but easier to interpret. It is telling us that the switch from `float64` to `float32` changed the values on average by about 10<sup>-8</sup> - a truly miniscule chanage.\n",
    "\n",
    "Another way to look at the difference is to compare the summaries of the two series. For any given aggregation we can figure out the proportional change by taking the absolute difference and dividing by the original:"
   ]
  },
  {
   "cell_type": "code",
   "execution_count": 11,
   "metadata": {},
   "outputs": [
    {
     "data": {
      "text/plain": [
       "5.7728789459559594e-08"
      ]
     },
     "execution_count": 11,
     "metadata": {},
     "output_type": "execute_result"
    }
   ],
   "source": [
    "import numpy as np\n",
    "\n",
    "np.abs(op.mean() - op.astype('float32').mean()) / op.mean()"
   ]
  },
  {
   "cell_type": "markdown",
   "metadata": {},
   "source": [
    "So changing the series to `float32` alters the mean by a factor of around 10<sup>-8</sup>. We can do the same calculation with any other summary statistic - for instance, the standard deviation:"
   ]
  },
  {
   "cell_type": "code",
   "execution_count": 12,
   "metadata": {},
   "outputs": [
    {
     "data": {
      "text/plain": [
       "8.132412130848449e-09"
      ]
     },
     "execution_count": 12,
     "metadata": {},
     "output_type": "execute_result"
    }
   ],
   "source": [
    "np.abs(op.std() - op.astype('float32').std()) / op.std()"
   ]
  },
  {
   "cell_type": "markdown",
   "metadata": {},
   "source": [
    "### Comparing correlations\n",
    "\n",
    "Another way to measure the effect of reduced precision is to see if it changes the correlation between floating point columns. In our planets dataset we have two other floating point columns: the mass and the distance. Using pandas' built in `corr` method we can calculate the pairwise pearson correlation of all the floating point columns:"
   ]
  },
  {
   "cell_type": "code",
   "execution_count": 13,
   "metadata": {},
   "outputs": [
    {
     "data": {
      "text/html": [
       "<div>\n",
       "<style scoped>\n",
       "    .dataframe tbody tr th:only-of-type {\n",
       "        vertical-align: middle;\n",
       "    }\n",
       "\n",
       "    .dataframe tbody tr th {\n",
       "        vertical-align: top;\n",
       "    }\n",
       "\n",
       "    .dataframe thead th {\n",
       "        text-align: right;\n",
       "    }\n",
       "</style>\n",
       "<table border=\"1\" class=\"dataframe\">\n",
       "  <thead>\n",
       "    <tr style=\"text-align: right;\">\n",
       "      <th></th>\n",
       "      <th>orbital_period</th>\n",
       "      <th>mass</th>\n",
       "      <th>distance</th>\n",
       "    </tr>\n",
       "  </thead>\n",
       "  <tbody>\n",
       "    <tr>\n",
       "      <th>orbital_period</th>\n",
       "      <td>1.000000</td>\n",
       "      <td>0.173725</td>\n",
       "      <td>-0.034365</td>\n",
       "    </tr>\n",
       "    <tr>\n",
       "      <th>mass</th>\n",
       "      <td>0.173725</td>\n",
       "      <td>1.000000</td>\n",
       "      <td>0.274082</td>\n",
       "    </tr>\n",
       "    <tr>\n",
       "      <th>distance</th>\n",
       "      <td>-0.034365</td>\n",
       "      <td>0.274082</td>\n",
       "      <td>1.000000</td>\n",
       "    </tr>\n",
       "  </tbody>\n",
       "</table>\n",
       "</div>"
      ],
      "text/plain": [
       "                orbital_period      mass  distance\n",
       "orbital_period        1.000000  0.173725 -0.034365\n",
       "mass                  0.173725  1.000000  0.274082\n",
       "distance             -0.034365  0.274082  1.000000"
      ]
     },
     "execution_count": 13,
     "metadata": {},
     "output_type": "execute_result"
    }
   ],
   "source": [
    "planets.select_dtypes('float64').corr()"
   ]
  },
  {
   "cell_type": "markdown",
   "metadata": {},
   "source": [
    "Then do the same with a `float32` version and take the difference:"
   ]
  },
  {
   "cell_type": "code",
   "execution_count": 14,
   "metadata": {},
   "outputs": [
    {
     "data": {
      "text/html": [
       "<div>\n",
       "<style scoped>\n",
       "    .dataframe tbody tr th:only-of-type {\n",
       "        vertical-align: middle;\n",
       "    }\n",
       "\n",
       "    .dataframe tbody tr th {\n",
       "        vertical-align: top;\n",
       "    }\n",
       "\n",
       "    .dataframe thead th {\n",
       "        text-align: right;\n",
       "    }\n",
       "</style>\n",
       "<table border=\"1\" class=\"dataframe\">\n",
       "  <thead>\n",
       "    <tr style=\"text-align: right;\">\n",
       "      <th></th>\n",
       "      <th>orbital_period</th>\n",
       "      <th>mass</th>\n",
       "      <th>distance</th>\n",
       "    </tr>\n",
       "  </thead>\n",
       "  <tbody>\n",
       "    <tr>\n",
       "      <th>orbital_period</th>\n",
       "      <td>0.000000e+00</td>\n",
       "      <td>-6.383500e-10</td>\n",
       "      <td>7.736160e-11</td>\n",
       "    </tr>\n",
       "    <tr>\n",
       "      <th>mass</th>\n",
       "      <td>-6.383500e-10</td>\n",
       "      <td>0.000000e+00</td>\n",
       "      <td>1.046595e-09</td>\n",
       "    </tr>\n",
       "    <tr>\n",
       "      <th>distance</th>\n",
       "      <td>7.736160e-11</td>\n",
       "      <td>1.046595e-09</td>\n",
       "      <td>0.000000e+00</td>\n",
       "    </tr>\n",
       "  </tbody>\n",
       "</table>\n",
       "</div>"
      ],
      "text/plain": [
       "                orbital_period          mass      distance\n",
       "orbital_period    0.000000e+00 -6.383500e-10  7.736160e-11\n",
       "mass             -6.383500e-10  0.000000e+00  1.046595e-09\n",
       "distance          7.736160e-11  1.046595e-09  0.000000e+00"
      ]
     },
     "execution_count": 14,
     "metadata": {},
     "output_type": "execute_result"
    }
   ],
   "source": [
    "(\n",
    "    planets.select_dtypes('float64').corr()\n",
    "    - planets.select_dtypes('float64').astype('float32').corr()\n",
    ")"
   ]
  },
  {
   "cell_type": "markdown",
   "metadata": {},
   "source": [
    "As we can see, the differences are tiny, and would definitely not alter our conclusions about the relationships in the dataset. For a more sophisticated look at correlations, we could bring in a linear regression:"
   ]
  },
  {
   "cell_type": "code",
   "execution_count": 15,
   "metadata": {},
   "outputs": [
    {
     "data": {
      "text/plain": [
       "LinregressResult(slope=0.00045766570228103964, intercept=2.1268128078962634, rvalue=0.1849061860050771, pvalue=3.298187969140348e-05, stderr=0.00010921992411493946)"
      ]
     },
     "execution_count": 15,
     "metadata": {},
     "output_type": "execute_result"
    }
   ],
   "source": [
    "from scipy.stats import linregress\n",
    "\n",
    "linregress(\n",
    "    planets.dropna()['orbital_period'],\n",
    "    planets.dropna()['mass']\n",
    ")"
   ]
  },
  {
   "cell_type": "markdown",
   "metadata": {},
   "source": [
    "and again take the difference between the 64 and 32 bit versions:"
   ]
  },
  {
   "cell_type": "code",
   "execution_count": 16,
   "metadata": {},
   "outputs": [
    {
     "name": "stdout",
     "output_type": "stream",
     "text": [
      "slope difference : -1.6647770943907514e-12 \n",
      "intercept difference : 2.81312630967534e-08 \n",
      "R value difference : -1.7317597356125702e-10 \n"
     ]
    }
   ],
   "source": [
    "l_64 = linregress(\n",
    "    planets.dropna()['orbital_period'],\n",
    "    planets.dropna()['mass']\n",
    ")\n",
    "\n",
    "l_32 = linregress(\n",
    "    planets.dropna()['orbital_period'].astype('float32'),\n",
    "    planets.dropna()['mass'].astype('float32')\n",
    ")\n",
    "\n",
    "print(f'slope difference : {l_64[0] - l_32[0]} ')\n",
    "print(f'intercept difference : {l_64[1] - l_32[1]} ')\n",
    "print(f'R value difference : {l_64[2] - l_32[2]} ')"
   ]
  },
  {
   "cell_type": "markdown",
   "metadata": {},
   "source": [
    "Once again, the difference is incredibly minor. Given that the original values might be very small, a proprtional change might be easier to interpret:"
   ]
  },
  {
   "cell_type": "code",
   "execution_count": 17,
   "metadata": {},
   "outputs": [
    {
     "name": "stdout",
     "output_type": "stream",
     "text": [
      "proportional slope difference : -3.6375395536379053e-09 \n",
      "proportional intercept difference : 1.3226957723928434e-08 \n",
      "proportional R value difference : -9.365612763031196e-10 \n"
     ]
    }
   ],
   "source": [
    "print(f'proportional slope difference : {(l_64[0] - l_32[0]) / l_64[0]} ')\n",
    "print(f'proportional intercept difference : {(l_64[1] - l_32[1]) / l_64[1]} ')\n",
    "print(f'proportional R value difference : {(l_64[2] - l_32[2]) / l_64[2]} ')"
   ]
  },
  {
   "cell_type": "markdown",
   "metadata": {},
   "source": [
    "## Part two: let's try it on a larger scale\n",
    "\n",
    "Attentive readers will have noticed that all of the calculations above were done by Python code :-) That means that it should be possible to automate this process and try it across a large number of different datasets. For a convenient source of real world dataset we turn to [kaggle](http://kaggle.com). \n",
    "\n",
    "The collection of datasets hosted at Kaggle is perfect for our purposes. It contains real world data from a massive range of different fields and sources, mostly stored in files that will be easy to get in to pandas. It also has a convenient API with a Python client library, which will make it easy to download a large collection of different data files.\n",
    "\n",
    "### Downloading the data\n",
    "\n",
    "To download our collection of datasets using the Kaggle API we have to go through a couple of steps. First we will connect to the API and authenticate:\n",
    "\n",
    "```python\n",
    "from kaggle.api.kaggle_api_extended import KaggleApi\n",
    "api = KaggleApi()\n",
    "api.authenticate()\n",
    "```\n",
    "\n",
    "Next we can get a list of datasets by using the `dataset_list` method. We will search for CSV files, since they will be the easiest to load into pandas, and use pagination to get a large collection of dataset objects. Here I'm using the `tqdm` package for a progress bar, since this code takes a long time to run. I'm not sure if it's necessary, but I'm also putting in a 1-second delay between requests in an attempt to be a good internet citizen:\n",
    "\n",
    "\n",
    "```python\n",
    "from tqdm.notebook import trange, tqdm\n",
    "import time\n",
    "\n",
    "dataset = []\n",
    "\n",
    "for page in trange(1,1000):\n",
    "    datasets.append(api.dataset_list(file_type='csv', page=page))\n",
    "    time.sleep(1)\n",
    "    \n",
    "```\n",
    "\n",
    "Now we have a list of dataset objects, we can get on to the actual downloading. To keep things organized I'm using a separate folder for each dataset (which might end up containing multiple files). Once I've created the folder it's just a case of calling `dataset_download_files` with each dataset reference from the previous step and the new folder name as the destination. I'm also using `unzip=True` to make sure that we end up with extracted files. This will obviously take more disk space than leaving them compressed.\n",
    "\n",
    "\n",
    "```python\n",
    "\n",
    "for dat in tqdm(all_datasets):\n",
    "    \n",
    "    folder_name = dat.ref.replace('/', '-')\n",
    "    \n",
    "    if not os.path.exists(folder_name):\n",
    "        os.mkdir(folder_name)\n",
    "    print(dat.ref)\n",
    "    api.dataset_download_files(str(dat.ref),path=folder_name, unzip=True)\n",
    "```"
   ]
  },
  {
   "cell_type": "markdown",
   "metadata": {},
   "source": [
    "### Processing the downloaded files\n",
    "\n",
    "Now that we've done the download step, we can get on to reading our data files and measuring the effect of reducing precision. Let's take a look at the function to take a single file and just give us the columns we're interested in:"
   ]
  },
  {
   "cell_type": "code",
   "execution_count": 3,
   "metadata": {},
   "outputs": [],
   "source": [
    "def get_float_columns(filepath):\n",
    "    \n",
    "    try:\n",
    "        df = pd.read_csv(filepath, encoding='latin-1').select_dtypes(['float64'])\n",
    "    except:\n",
    "        print(f'cannot read {filepath}')\n",
    "        return None\n",
    "    \n",
    "    # replace infinite values with missing data\n",
    "    df.replace([np.inf, -np.inf], np.nan, inplace=True)\n",
    "    \n",
    "    # get rid of columns that are only floats because they contain missing data\n",
    "    # i.e. they should actually be integers\n",
    "    keep = []\n",
    "    for c in df.columns:\n",
    "        if not all(df[c].dropna().astype(int) == df[c].dropna()):\n",
    "            keep.append(c)\n",
    "    if len(keep) == 0:\n",
    "        return None\n",
    "    return df[keep]\n",
    "    "
   ]
  },
  {
   "cell_type": "markdown",
   "metadata": {},
   "source": [
    "Some of the files will need special arguments to `read_csv` in order to open. Of course, since we have so many files, we can't go and manually figure out the correct arguments for every one. So to open the file we'll just call `read_csv` in a `try` block so that files requiring complex arguments won't crash our program. We are only interested in floating point columns, so we'll use `select_dtypes` to get them. \n",
    "\n",
    "There's a slight complication in selecting the floating point columns: due to the way that pandas handles missing data, integer columns that contain missing data will end up as `float64` by default. So there's a chunk of code to identify floating point columns that are really integers, and to drop them from the dataset. \n",
    "\n",
    "We can test out the function by running it on our planets dataset:"
   ]
  },
  {
   "cell_type": "code",
   "execution_count": 19,
   "metadata": {},
   "outputs": [
    {
     "data": {
      "text/html": [
       "<div>\n",
       "<style scoped>\n",
       "    .dataframe tbody tr th:only-of-type {\n",
       "        vertical-align: middle;\n",
       "    }\n",
       "\n",
       "    .dataframe tbody tr th {\n",
       "        vertical-align: top;\n",
       "    }\n",
       "\n",
       "    .dataframe thead th {\n",
       "        text-align: right;\n",
       "    }\n",
       "</style>\n",
       "<table border=\"1\" class=\"dataframe\">\n",
       "  <thead>\n",
       "    <tr style=\"text-align: right;\">\n",
       "      <th></th>\n",
       "      <th>orbital_period</th>\n",
       "      <th>mass</th>\n",
       "      <th>distance</th>\n",
       "    </tr>\n",
       "  </thead>\n",
       "  <tbody>\n",
       "    <tr>\n",
       "      <th>0</th>\n",
       "      <td>269.300000</td>\n",
       "      <td>7.10</td>\n",
       "      <td>77.40</td>\n",
       "    </tr>\n",
       "    <tr>\n",
       "      <th>1</th>\n",
       "      <td>874.774000</td>\n",
       "      <td>2.21</td>\n",
       "      <td>56.95</td>\n",
       "    </tr>\n",
       "    <tr>\n",
       "      <th>2</th>\n",
       "      <td>763.000000</td>\n",
       "      <td>2.60</td>\n",
       "      <td>19.84</td>\n",
       "    </tr>\n",
       "    <tr>\n",
       "      <th>3</th>\n",
       "      <td>326.030000</td>\n",
       "      <td>19.40</td>\n",
       "      <td>110.62</td>\n",
       "    </tr>\n",
       "    <tr>\n",
       "      <th>4</th>\n",
       "      <td>516.220000</td>\n",
       "      <td>10.50</td>\n",
       "      <td>119.47</td>\n",
       "    </tr>\n",
       "    <tr>\n",
       "      <th>...</th>\n",
       "      <td>...</td>\n",
       "      <td>...</td>\n",
       "      <td>...</td>\n",
       "    </tr>\n",
       "    <tr>\n",
       "      <th>1030</th>\n",
       "      <td>3.941507</td>\n",
       "      <td>NaN</td>\n",
       "      <td>172.00</td>\n",
       "    </tr>\n",
       "    <tr>\n",
       "      <th>1031</th>\n",
       "      <td>2.615864</td>\n",
       "      <td>NaN</td>\n",
       "      <td>148.00</td>\n",
       "    </tr>\n",
       "    <tr>\n",
       "      <th>1032</th>\n",
       "      <td>3.191524</td>\n",
       "      <td>NaN</td>\n",
       "      <td>174.00</td>\n",
       "    </tr>\n",
       "    <tr>\n",
       "      <th>1033</th>\n",
       "      <td>4.125083</td>\n",
       "      <td>NaN</td>\n",
       "      <td>293.00</td>\n",
       "    </tr>\n",
       "    <tr>\n",
       "      <th>1034</th>\n",
       "      <td>4.187757</td>\n",
       "      <td>NaN</td>\n",
       "      <td>260.00</td>\n",
       "    </tr>\n",
       "  </tbody>\n",
       "</table>\n",
       "<p>1035 rows × 3 columns</p>\n",
       "</div>"
      ],
      "text/plain": [
       "      orbital_period   mass  distance\n",
       "0         269.300000   7.10     77.40\n",
       "1         874.774000   2.21     56.95\n",
       "2         763.000000   2.60     19.84\n",
       "3         326.030000  19.40    110.62\n",
       "4         516.220000  10.50    119.47\n",
       "...              ...    ...       ...\n",
       "1030        3.941507    NaN    172.00\n",
       "1031        2.615864    NaN    148.00\n",
       "1032        3.191524    NaN    174.00\n",
       "1033        4.125083    NaN    293.00\n",
       "1034        4.187757    NaN    260.00\n",
       "\n",
       "[1035 rows x 3 columns]"
      ]
     },
     "execution_count": 19,
     "metadata": {},
     "output_type": "execute_result"
    }
   ],
   "source": [
    "get_float_columns('planets.csv')"
   ]
  },
  {
   "cell_type": "markdown",
   "metadata": {},
   "source": [
    "As expected, we just get the floating point columns. \n",
    "\n",
    "### Comparing summary statistics\n",
    "\n",
    "Now we can move on to the first question, calculating the summary statistics for each column in both 64 bit and 32 bit versions. Most of the work will be done by `describe`. We will add a `_64` and a `_32` suffix to the column names, then concatenate the two descriptions to give a wide summary table with one row per column in the original dataframe:"
   ]
  },
  {
   "cell_type": "code",
   "execution_count": 6,
   "metadata": {},
   "outputs": [
    {
     "data": {
      "text/html": [
       "<div>\n",
       "<style scoped>\n",
       "    .dataframe tbody tr th:only-of-type {\n",
       "        vertical-align: middle;\n",
       "    }\n",
       "\n",
       "    .dataframe tbody tr th {\n",
       "        vertical-align: top;\n",
       "    }\n",
       "\n",
       "    .dataframe thead th {\n",
       "        text-align: right;\n",
       "    }\n",
       "</style>\n",
       "<table border=\"1\" class=\"dataframe\">\n",
       "  <thead>\n",
       "    <tr style=\"text-align: right;\">\n",
       "      <th></th>\n",
       "      <th>count_32</th>\n",
       "      <th>mean_32</th>\n",
       "      <th>...</th>\n",
       "      <th>75%_64_abs</th>\n",
       "      <th>max_64_abs</th>\n",
       "    </tr>\n",
       "  </thead>\n",
       "  <tbody>\n",
       "    <tr>\n",
       "      <th>orbital_period</th>\n",
       "      <td>992.0</td>\n",
       "      <td>2002.917480</td>\n",
       "      <td>...</td>\n",
       "      <td>526.005</td>\n",
       "      <td>730000.0</td>\n",
       "    </tr>\n",
       "    <tr>\n",
       "      <th>mass</th>\n",
       "      <td>513.0</td>\n",
       "      <td>2.638161</td>\n",
       "      <td>...</td>\n",
       "      <td>3.040</td>\n",
       "      <td>25.0</td>\n",
       "    </tr>\n",
       "    <tr>\n",
       "      <th>distance</th>\n",
       "      <td>808.0</td>\n",
       "      <td>264.069275</td>\n",
       "      <td>...</td>\n",
       "      <td>178.500</td>\n",
       "      <td>8500.0</td>\n",
       "    </tr>\n",
       "  </tbody>\n",
       "</table>\n",
       "<p>3 rows × 24 columns</p>\n",
       "</div>"
      ],
      "text/plain": [
       "                count_32      mean_32  ...  75%_64_abs  max_64_abs\n",
       "orbital_period     992.0  2002.917480  ...     526.005    730000.0\n",
       "mass               513.0     2.638161  ...       3.040        25.0\n",
       "distance           808.0   264.069275  ...     178.500      8500.0\n",
       "\n",
       "[3 rows x 24 columns]"
      ]
     },
     "execution_count": 6,
     "metadata": {},
     "output_type": "execute_result"
    }
   ],
   "source": [
    "import numpy as np\n",
    "def summarize_columns(df):\n",
    "    summary_64 = df.describe().T\n",
    "    summary_64.columns = [c + '_64' for c in summary_64.columns] \n",
    "    \n",
    "    summary_64_abs = df.abs().describe().T\n",
    "    summary_64_abs.columns = [c + '_64_abs' for c in summary_64_abs.columns] \n",
    "\n",
    "    summary_32 = df.astype('float32').describe().T\n",
    "    summary_32.columns = [c + '_32' for c in summary_32.columns] \n",
    "\n",
    "    result = pd.concat([summary_32, summary_64, summary_64_abs], axis=1)\n",
    "    \n",
    "    return result\n",
    "    \n",
    "planets = get_float_columns('planets.csv')\n",
    "summarize_columns(planets)"
   ]
  },
  {
   "cell_type": "markdown",
   "metadata": {},
   "source": [
    "There's one slight complication compared to our original planet code. Think about the case where we have a column of mixed negative and positive values. We might end up with a situation where the mean is very close to zero, even though the values themselves are not. This will give us an inflated estimate of the precision error when we divide by the mean. By working with a mean of the absolute values we can avoid this. The same goes for the other summary statistics - median, min, max, etc.\n",
    "\n",
    "This dataframe is a bit awkward to read on a web page, since it's so wide. But the column structure makes it very easy to check, for example, the difference in the means, either in absolute terms:"
   ]
  },
  {
   "cell_type": "code",
   "execution_count": 21,
   "metadata": {},
   "outputs": [
    {
     "data": {
      "text/plain": [
       "orbital_period    1.156260e-04\n",
       "mass              1.207711e-07\n",
       "distance          7.275874e-06\n",
       "dtype: float64"
      ]
     },
     "execution_count": 21,
     "metadata": {},
     "output_type": "execute_result"
    }
   ],
   "source": [
    "summary = summarize_columns(planets)\n",
    "(summary['mean_64'] - summary['mean_32']).abs()"
   ]
  },
  {
   "cell_type": "markdown",
   "metadata": {},
   "source": [
    "Or as a proportion of the original:"
   ]
  },
  {
   "cell_type": "code",
   "execution_count": 22,
   "metadata": {},
   "outputs": [
    {
     "data": {
      "text/plain": [
       "orbital_period    5.772879e-08\n",
       "mass              4.577852e-08\n",
       "distance          2.755290e-08\n",
       "dtype: float64"
      ]
     },
     "execution_count": 22,
     "metadata": {},
     "output_type": "execute_result"
    }
   ],
   "source": [
    "summary = summarize_columns(planets)\n",
    "(summary['mean_64'] - summary['mean_32']).abs() / summary['mean_64_abs']"
   ]
  },
  {
   "cell_type": "markdown",
   "metadata": {},
   "source": [
    "### Comparing linear regressions\n",
    "\n",
    "Next we need a function that will take our dataframe of floating point columns and calculate pairwise linear regressions for both 32 and 64 bit versions. Here's what it looks like:"
   ]
  },
  {
   "cell_type": "code",
   "execution_count": 9,
   "metadata": {},
   "outputs": [
    {
     "data": {
      "text/html": [
       "<div>\n",
       "<style scoped>\n",
       "    .dataframe tbody tr th:only-of-type {\n",
       "        vertical-align: middle;\n",
       "    }\n",
       "\n",
       "    .dataframe tbody tr th {\n",
       "        vertical-align: top;\n",
       "    }\n",
       "\n",
       "    .dataframe thead th {\n",
       "        text-align: right;\n",
       "    }\n",
       "</style>\n",
       "<table border=\"1\" class=\"dataframe\">\n",
       "  <thead>\n",
       "    <tr style=\"text-align: right;\">\n",
       "      <th></th>\n",
       "      <th>x</th>\n",
       "      <th>y</th>\n",
       "      <th>...</th>\n",
       "      <th>pvalue_64</th>\n",
       "      <th>pvalue_32</th>\n",
       "    </tr>\n",
       "  </thead>\n",
       "  <tbody>\n",
       "    <tr>\n",
       "      <th>0</th>\n",
       "      <td>orbital_period</td>\n",
       "      <td>mass</td>\n",
       "      <td>...</td>\n",
       "      <td>3.298188e-05</td>\n",
       "      <td>3.298188e-05</td>\n",
       "    </tr>\n",
       "    <tr>\n",
       "      <th>1</th>\n",
       "      <td>orbital_period</td>\n",
       "      <td>distance</td>\n",
       "      <td>...</td>\n",
       "      <td>4.348817e-01</td>\n",
       "      <td>4.348817e-01</td>\n",
       "    </tr>\n",
       "    <tr>\n",
       "      <th>2</th>\n",
       "      <td>mass</td>\n",
       "      <td>distance</td>\n",
       "      <td>...</td>\n",
       "      <td>4.954410e-10</td>\n",
       "      <td>4.954411e-10</td>\n",
       "    </tr>\n",
       "  </tbody>\n",
       "</table>\n",
       "<p>3 rows × 10 columns</p>\n",
       "</div>"
      ],
      "text/plain": [
       "                x         y  ...     pvalue_64     pvalue_32\n",
       "0  orbital_period      mass  ...  3.298188e-05  3.298188e-05\n",
       "1  orbital_period  distance  ...  4.348817e-01  4.348817e-01\n",
       "2            mass  distance  ...  4.954410e-10  4.954411e-10\n",
       "\n",
       "[3 rows x 10 columns]"
      ]
     },
     "execution_count": 9,
     "metadata": {},
     "output_type": "execute_result"
    }
   ],
   "source": [
    "import scipy.stats\n",
    "import itertools\n",
    "\n",
    "def summarize_regressions(df):\n",
    "    \n",
    "    df = df.dropna()\n",
    "    \n",
    "    # if fewer than two columns or fewer than ten rows, skip\n",
    "    if len(df.columns) < 2 or len(df) < 10:\n",
    "        return None\n",
    "    \n",
    "    df_32 = df.astype('float32')\n",
    "    \n",
    "    results = []\n",
    "    \n",
    "    for x, y in itertools.combinations(df.columns, r=2):\n",
    "            \n",
    "            \n",
    "        regression_64 = scipy.stats.linregress(df[x], df[y])\n",
    "        regression_32 = scipy.stats.linregress(df_32[x], df_32[y])\n",
    "\n",
    "        results.append(\n",
    "            (\n",
    "                x,\n",
    "                y,\n",
    "                regression_64[0], # slope\n",
    "                regression_32[0],\n",
    "                regression_64[1], # intercept\n",
    "                regression_32[1],\n",
    "                regression_64[2], # R value\n",
    "                regression_32[2],\n",
    "                regression_64[3], # P value\n",
    "                regression_32[3],\n",
    "            )\n",
    "        )\n",
    "\n",
    "    return pd.DataFrame(\n",
    "        results,\n",
    "        columns = ['x', 'y', \n",
    "               'slope_64', 'slope_32', \n",
    "               'intercept_64', 'intercept_32', \n",
    "               'rvalue_64', 'rvalue_32', \n",
    "               'pvalue_64', 'pvalue_32']\n",
    "        )\n",
    "\n",
    "summarize_regressions(planets)"
   ]
  },
  {
   "cell_type": "markdown",
   "metadata": {},
   "source": [
    "The output is another summary table, this time showing us the slope, intercept, rvalue and pvalue for each pair of columns in both 64 bit and 32 bit form. As in the summary statistics, this makes it easy to find the differences in the various regression properties. Here's the difference in slope as a proportion of the original slope:"
   ]
  },
  {
   "cell_type": "code",
   "execution_count": 26,
   "metadata": {},
   "outputs": [
    {
     "data": {
      "text/plain": [
       "0    3.637540e-09\n",
       "1   -3.431153e-08\n",
       "2    8.654275e-09\n",
       "dtype: float64"
      ]
     },
     "execution_count": 26,
     "metadata": {},
     "output_type": "execute_result"
    }
   ],
   "source": [
    "summary = summarize_regressions(planets)\n",
    "(summary['slope_64'] - summary['slope_32']).abs() / summary['slope_64']"
   ]
  },
  {
   "cell_type": "markdown",
   "metadata": {},
   "source": [
    "## Part three: looking at the results\n",
    "\n",
    "Having written the functions above, actually analysing all of the downloaded data files is pretty straightforward. We will use `glob` to iterate over the folders, and just call the functions in order. "
   ]
  },
  {
   "cell_type": "code",
   "execution_count": null,
   "metadata": {},
   "outputs": [],
   "source": [
    "import glob\n",
    "from tqdm.notebook import tqdm\n",
    "\n",
    "dfs = []\n",
    "\n",
    "for filepath in tqdm(glob.glob('/home/martin/Downloads/kaggle_test/*-*/*.csv')):\n",
    "    df = get_float_columns(filepath)\n",
    "    if df is not None:\n",
    "        summary = summarize_columns(df)\n",
    "        summary['filepath'] = filepath\n",
    "        dfs.append(summary)\n",
    "        \n",
    "summary_stats = pd.concat(dfs)"
   ]
  },
  {
   "cell_type": "code",
   "execution_count": 19,
   "metadata": {},
   "outputs": [],
   "source": [
    "#hide\n",
    "\n",
    "summary_stats.rename_axis('column_name').reset_index().to_csv('summary_stats.csv', index=False)"
   ]
  },
  {
   "cell_type": "markdown",
   "metadata": {},
   "source": [
    "At the end of the process we have a big dataframe that contains the summary for all the data files:"
   ]
  },
  {
   "cell_type": "code",
   "execution_count": 12,
   "metadata": {},
   "outputs": [
    {
     "data": {
      "text/html": [
       "<div>\n",
       "<style scoped>\n",
       "    .dataframe tbody tr th:only-of-type {\n",
       "        vertical-align: middle;\n",
       "    }\n",
       "\n",
       "    .dataframe tbody tr th {\n",
       "        vertical-align: top;\n",
       "    }\n",
       "\n",
       "    .dataframe thead th {\n",
       "        text-align: right;\n",
       "    }\n",
       "</style>\n",
       "<table border=\"1\" class=\"dataframe\">\n",
       "  <thead>\n",
       "    <tr style=\"text-align: right;\">\n",
       "      <th></th>\n",
       "      <th>count_32</th>\n",
       "      <th>mean_32</th>\n",
       "      <th>...</th>\n",
       "      <th>max_64_abs</th>\n",
       "      <th>filepath</th>\n",
       "    </tr>\n",
       "  </thead>\n",
       "  <tbody>\n",
       "    <tr>\n",
       "      <th>BMI</th>\n",
       "      <td>768.0</td>\n",
       "      <td>31.992579</td>\n",
       "      <td>...</td>\n",
       "      <td>67.10</td>\n",
       "      <td>/home/martin/Downloads/kaggle_test/uciml-pima-...</td>\n",
       "    </tr>\n",
       "    <tr>\n",
       "      <th>DiabetesPedigreeFunction</th>\n",
       "      <td>768.0</td>\n",
       "      <td>0.471876</td>\n",
       "      <td>...</td>\n",
       "      <td>2.42</td>\n",
       "      <td>/home/martin/Downloads/kaggle_test/uciml-pima-...</td>\n",
       "    </tr>\n",
       "    <tr>\n",
       "      <th>MILES*</th>\n",
       "      <td>1156.0</td>\n",
       "      <td>21.115400</td>\n",
       "      <td>...</td>\n",
       "      <td>12204.70</td>\n",
       "      <td>/home/martin/Downloads/kaggle_test/zusmani-ube...</td>\n",
       "    </tr>\n",
       "    <tr>\n",
       "      <th>avg_rating</th>\n",
       "      <td>13608.0</td>\n",
       "      <td>3.923293</td>\n",
       "      <td>...</td>\n",
       "      <td>5.00</td>\n",
       "      <td>/home/martin/Downloads/kaggle_test/jilkothari-...</td>\n",
       "    </tr>\n",
       "    <tr>\n",
       "      <th>avg_rating_recent</th>\n",
       "      <td>13608.0</td>\n",
       "      <td>3.912241</td>\n",
       "      <td>...</td>\n",
       "      <td>5.00</td>\n",
       "      <td>/home/martin/Downloads/kaggle_test/jilkothari-...</td>\n",
       "    </tr>\n",
       "  </tbody>\n",
       "</table>\n",
       "<p>5 rows × 25 columns</p>\n",
       "</div>"
      ],
      "text/plain": [
       "                          count_32    mean_32  ...  max_64_abs  \\\n",
       "BMI                          768.0  31.992579  ...       67.10   \n",
       "DiabetesPedigreeFunction     768.0   0.471876  ...        2.42   \n",
       "MILES*                      1156.0  21.115400  ...    12204.70   \n",
       "avg_rating                 13608.0   3.923293  ...        5.00   \n",
       "avg_rating_recent          13608.0   3.912241  ...        5.00   \n",
       "\n",
       "                                                                   filepath  \n",
       "BMI                       /home/martin/Downloads/kaggle_test/uciml-pima-...  \n",
       "DiabetesPedigreeFunction  /home/martin/Downloads/kaggle_test/uciml-pima-...  \n",
       "MILES*                    /home/martin/Downloads/kaggle_test/zusmani-ube...  \n",
       "avg_rating                /home/martin/Downloads/kaggle_test/jilkothari-...  \n",
       "avg_rating_recent         /home/martin/Downloads/kaggle_test/jilkothari-...  \n",
       "\n",
       "[5 rows x 25 columns]"
      ]
     },
     "execution_count": 12,
     "metadata": {},
     "output_type": "execute_result"
    }
   ],
   "source": [
    "summary_stats.head()"
   ]
  },
  {
   "cell_type": "markdown",
   "metadata": {},
   "source": [
    "If you want to play with the data, you can [download a compressed copy here](https://github.com/mojones/dfd_jupyter_test/raw/master/_notebooks/summary_stats.csv.gz).\n",
    "\n",
    "Let's first take a look at the volume of data. We have processed 919 data files:"
   ]
  },
  {
   "cell_type": "code",
   "execution_count": 58,
   "metadata": {},
   "outputs": [
    {
     "data": {
      "text/plain": [
       "919"
      ]
     },
     "execution_count": 58,
     "metadata": {},
     "output_type": "execute_result"
    }
   ],
   "source": [
    "summary_stats['filepath'].nunique()"
   ]
  },
  {
   "cell_type": "markdown",
   "metadata": {},
   "source": [
    "containing just over 8000 floating point columns:"
   ]
  },
  {
   "cell_type": "code",
   "execution_count": 59,
   "metadata": {},
   "outputs": [
    {
     "data": {
      "text/plain": [
       "8040"
      ]
     },
     "execution_count": 59,
     "metadata": {},
     "output_type": "execute_result"
    }
   ],
   "source": [
    "len(summary_stats.reset_index().groupby(['index', 'filepath']))"
   ]
  },
  {
   "cell_type": "markdown",
   "metadata": {},
   "source": [
    "and just over half a billion individual floating point values:\n"
   ]
  },
  {
   "cell_type": "code",
   "execution_count": 60,
   "metadata": {},
   "outputs": [
    {
     "data": {
      "text/plain": [
       "520432586.0"
      ]
     },
     "execution_count": 60,
     "metadata": {},
     "output_type": "execute_result"
    }
   ],
   "source": [
    "summary_stats['count_64'].sum()"
   ]
  },
  {
   "cell_type": "markdown",
   "metadata": {},
   "source": [
    "One slight complication is that some of our data files contain very large values that will be outside the range of 32 bit floating point numbers. It's easy to spot those in the file as the maximum of the 32 bit version will end up infinite:"
   ]
  },
  {
   "cell_type": "code",
   "execution_count": 13,
   "metadata": {},
   "outputs": [
    {
     "data": {
      "text/html": [
       "<div>\n",
       "<style scoped>\n",
       "    .dataframe tbody tr th:only-of-type {\n",
       "        vertical-align: middle;\n",
       "    }\n",
       "\n",
       "    .dataframe tbody tr th {\n",
       "        vertical-align: top;\n",
       "    }\n",
       "\n",
       "    .dataframe thead th {\n",
       "        text-align: right;\n",
       "    }\n",
       "</style>\n",
       "<table border=\"1\" class=\"dataframe\">\n",
       "  <thead>\n",
       "    <tr style=\"text-align: right;\">\n",
       "      <th></th>\n",
       "      <th>count_32</th>\n",
       "      <th>mean_32</th>\n",
       "      <th>...</th>\n",
       "      <th>max_64_abs</th>\n",
       "      <th>filepath</th>\n",
       "    </tr>\n",
       "  </thead>\n",
       "  <tbody>\n",
       "    <tr>\n",
       "      <th>PublicScoreLeaderboardDisplay</th>\n",
       "      <td>8357340.0</td>\n",
       "      <td>NaN</td>\n",
       "      <td>...</td>\n",
       "      <td>6.567444e+302</td>\n",
       "      <td>/home/martin/Downloads/kaggle_test/kaggle-meta...</td>\n",
       "    </tr>\n",
       "    <tr>\n",
       "      <th>PrivateScoreLeaderboardDisplay</th>\n",
       "      <td>8357340.0</td>\n",
       "      <td>NaN</td>\n",
       "      <td>...</td>\n",
       "      <td>6.870993e+302</td>\n",
       "      <td>/home/martin/Downloads/kaggle_test/kaggle-meta...</td>\n",
       "    </tr>\n",
       "  </tbody>\n",
       "</table>\n",
       "<p>2 rows × 25 columns</p>\n",
       "</div>"
      ],
      "text/plain": [
       "                                 count_32  mean_32  ...     max_64_abs  \\\n",
       "PublicScoreLeaderboardDisplay   8357340.0      NaN  ...  6.567444e+302   \n",
       "PrivateScoreLeaderboardDisplay  8357340.0      NaN  ...  6.870993e+302   \n",
       "\n",
       "                                                                         filepath  \n",
       "PublicScoreLeaderboardDisplay   /home/martin/Downloads/kaggle_test/kaggle-meta...  \n",
       "PrivateScoreLeaderboardDisplay  /home/martin/Downloads/kaggle_test/kaggle-meta...  \n",
       "\n",
       "[2 rows x 25 columns]"
      ]
     },
     "execution_count": 13,
     "metadata": {},
     "output_type": "execute_result"
    }
   ],
   "source": [
    "summary_stats[np.isinf(summary_stats['max_32'])]"
   ]
  },
  {
   "cell_type": "markdown",
   "metadata": {},
   "source": [
    "It's also pretty easy to remove them from the results:"
   ]
  },
  {
   "cell_type": "code",
   "execution_count": 64,
   "metadata": {},
   "outputs": [],
   "source": [
    "results = summary_stats[ ~ np.isinf(summary_stats['max_32'])]"
   ]
  },
  {
   "cell_type": "markdown",
   "metadata": {},
   "source": [
    "### Looking at changes in summary statistics\n",
    "\n",
    "Now we can start to address the questions of how much effect changing to 32 bit precision had on the data. Since the `results` dataframe is in the same format as our earlier planets example, the code will be very similar. We can calculate the absolute error:"
   ]
  },
  {
   "cell_type": "code",
   "execution_count": 65,
   "metadata": {},
   "outputs": [
    {
     "data": {
      "text/plain": [
       "BMI                         3.814697e-07\n",
       "DiabetesPedigreeFunction    8.662542e-09\n",
       "MILES*                      2.390456e-06\n",
       "avg_rating                  3.664424e-08\n",
       "avg_rating_recent           1.100372e-07\n",
       "                                ...     \n",
       "5a_credit_market_reg        5.570170e-07\n",
       "5b_labor_market_reg         2.104992e-07\n",
       "5c_business_reg             3.096381e-07\n",
       "5_regulation                3.479504e-07\n",
       "oldpeak                     1.180290e-08\n",
       "Length: 8038, dtype: float64"
      ]
     },
     "execution_count": 65,
     "metadata": {},
     "output_type": "execute_result"
    }
   ],
   "source": [
    "(results['mean_64'] - results['mean_32']).abs()"
   ]
  },
  {
   "cell_type": "markdown",
   "metadata": {},
   "source": [
    "but since we have so many values, we need to summarize them. We can do this with summary statistics:"
   ]
  },
  {
   "cell_type": "code",
   "execution_count": 66,
   "metadata": {},
   "outputs": [
    {
     "data": {
      "text/plain": [
       "count    8.038000e+03\n",
       "mean     3.698345e+06\n",
       "std      3.315559e+08\n",
       "min      0.000000e+00\n",
       "25%      2.756953e-08\n",
       "50%      4.126828e-07\n",
       "75%      3.578393e-06\n",
       "max      2.972561e+10\n",
       "dtype: float64"
      ]
     },
     "execution_count": 66,
     "metadata": {},
     "output_type": "execute_result"
    }
   ],
   "source": [
    "(results['mean_64'] - results['mean_32']).abs().describe()"
   ]
  },
  {
   "cell_type": "markdown",
   "metadata": {},
   "source": [
    "Notice that we have a pretty wild distribution here. The mean absolute error is about three million, but the median (50% in the above table) is 0.0000004! This is why we need to normalize these by viewing them as a proportion of the original mean of absolute values:"
   ]
  },
  {
   "cell_type": "code",
   "execution_count": 67,
   "metadata": {},
   "outputs": [
    {
     "data": {
      "text/plain": [
       "count    8.038000e+03\n",
       "mean     4.340236e-08\n",
       "std      5.796892e-08\n",
       "min      0.000000e+00\n",
       "25%      1.366587e-08\n",
       "50%      3.117527e-08\n",
       "75%      5.799712e-08\n",
       "max      1.963675e-06\n",
       "dtype: float64"
      ]
     },
     "execution_count": 67,
     "metadata": {},
     "output_type": "execute_result"
    }
   ],
   "source": [
    "prop_errors = (results['mean_64'] - results['mean_32']).abs() / results['mean_64_abs']\n",
    "prop_errors.describe()"
   ]
  },
  {
   "cell_type": "markdown",
   "metadata": {},
   "source": [
    "This is easier to look at. The mean and median proportional error are both on the order of 10<sup>-8</sup>, and the worst affected data column has its mean altered by around 10<sup>-6</sup>. In practical terms, these are incredibly minor effects. We can easily view them as a distribution to see the long tail:"
   ]
  },
  {
   "cell_type": "code",
   "execution_count": 68,
   "metadata": {},
   "outputs": [
    {
     "data": {
      "text/plain": [
       "<seaborn.axisgrid.FacetGrid at 0x7f609ba57fa0>"
      ]
     },
     "execution_count": 68,
     "metadata": {},
     "output_type": "execute_result"
    },
    {
     "data": {
      "image/png": "[encoded data removed]",
      "text/plain": [
       "<Figure size 720x360 with 1 Axes>"
      ]
     },
     "metadata": {
      "needs_background": "light"
     },
     "output_type": "display_data"
    }
   ],
   "source": [
    "import seaborn as sns\n",
    "\n",
    "sns.displot(\n",
    "    prop_errors,\n",
    "    aspect=2\n",
    ")"
   ]
  },
  {
   "cell_type": "markdown",
   "metadata": {},
   "source": [
    "We can do the same thing for the other aggregations of the original data - let's add the median (50% in our table) and the max. Calculating the proportional error in the minimum is tricky, since for many data columns the minimum value will be zero, leading to an infinite proportional error, so we will skip it.\n",
    "\n",
    "Adding these measurements as additional columns:"
   ]
  },
  {
   "cell_type": "code",
   "execution_count": null,
   "metadata": {},
   "outputs": [],
   "source": [
    "results['mean prop error'] = (results['mean_64'] - results['mean_32']).abs() / results['mean_64_abs']\n",
    "results['median prop error'] = (results['50%_64'] - results['50%_32']).abs() / results['50%_64_abs']\n",
    "results['max prop error'] = (results['max_64'] - results['max_32']).abs() / results['max_64_abs']\n"
   ]
  },
  {
   "cell_type": "markdown",
   "metadata": {},
   "source": [
    "will allow us to make a summary table:"
   ]
  },
  {
   "cell_type": "code",
   "execution_count": 70,
   "metadata": {},
   "outputs": [
    {
     "data": {
      "text/html": [
       "<div>\n",
       "<style scoped>\n",
       "    .dataframe tbody tr th:only-of-type {\n",
       "        vertical-align: middle;\n",
       "    }\n",
       "\n",
       "    .dataframe tbody tr th {\n",
       "        vertical-align: top;\n",
       "    }\n",
       "\n",
       "    .dataframe thead th {\n",
       "        text-align: right;\n",
       "    }\n",
       "</style>\n",
       "<table border=\"1\" class=\"dataframe\">\n",
       "  <thead>\n",
       "    <tr style=\"text-align: right;\">\n",
       "      <th></th>\n",
       "      <th>mean prop error</th>\n",
       "      <th>median prop error</th>\n",
       "      <th>max prop error</th>\n",
       "    </tr>\n",
       "  </thead>\n",
       "  <tbody>\n",
       "    <tr>\n",
       "      <th>count</th>\n",
       "      <td>8.038000e+03</td>\n",
       "      <td>7.835000e+03</td>\n",
       "      <td>8.038000e+03</td>\n",
       "    </tr>\n",
       "    <tr>\n",
       "      <th>mean</th>\n",
       "      <td>4.340236e-08</td>\n",
       "      <td>1.546485e-08</td>\n",
       "      <td>1.370840e-08</td>\n",
       "    </tr>\n",
       "    <tr>\n",
       "      <th>std</th>\n",
       "      <td>5.796892e-08</td>\n",
       "      <td>1.516289e-08</td>\n",
       "      <td>1.422228e-08</td>\n",
       "    </tr>\n",
       "    <tr>\n",
       "      <th>min</th>\n",
       "      <td>0.000000e+00</td>\n",
       "      <td>0.000000e+00</td>\n",
       "      <td>0.000000e+00</td>\n",
       "    </tr>\n",
       "    <tr>\n",
       "      <th>25%</th>\n",
       "      <td>1.366587e-08</td>\n",
       "      <td>1.382856e-09</td>\n",
       "      <td>0.000000e+00</td>\n",
       "    </tr>\n",
       "    <tr>\n",
       "      <th>50%</th>\n",
       "      <td>3.117527e-08</td>\n",
       "      <td>1.254835e-08</td>\n",
       "      <td>1.014960e-08</td>\n",
       "    </tr>\n",
       "    <tr>\n",
       "      <th>75%</th>\n",
       "      <td>5.799712e-08</td>\n",
       "      <td>2.447450e-08</td>\n",
       "      <td>2.442311e-08</td>\n",
       "    </tr>\n",
       "    <tr>\n",
       "      <th>max</th>\n",
       "      <td>1.963675e-06</td>\n",
       "      <td>1.067892e-07</td>\n",
       "      <td>5.848003e-08</td>\n",
       "    </tr>\n",
       "  </tbody>\n",
       "</table>\n",
       "</div>"
      ],
      "text/plain": [
       "       mean prop error  median prop error  max prop error\n",
       "count     8.038000e+03       7.835000e+03    8.038000e+03\n",
       "mean      4.340236e-08       1.546485e-08    1.370840e-08\n",
       "std       5.796892e-08       1.516289e-08    1.422228e-08\n",
       "min       0.000000e+00       0.000000e+00    0.000000e+00\n",
       "25%       1.366587e-08       1.382856e-09    0.000000e+00\n",
       "50%       3.117527e-08       1.254835e-08    1.014960e-08\n",
       "75%       5.799712e-08       2.447450e-08    2.442311e-08\n",
       "max       1.963675e-06       1.067892e-07    5.848003e-08"
      ]
     },
     "execution_count": 70,
     "metadata": {},
     "output_type": "execute_result"
    }
   ],
   "source": [
    "results[['mean prop error', 'median prop error', 'max prop error']].describe()"
   ]
  },
  {
   "cell_type": "markdown",
   "metadata": {},
   "source": [
    "A little bit of rearrangement using `melt` will allow us to look at the distribution of proportional errors for all three summary statistics:"
   ]
  },
  {
   "cell_type": "code",
   "execution_count": 71,
   "metadata": {
    "run_control": {
     "marked": false
    }
   },
   "outputs": [
    {
     "data": {
      "text/plain": [
       "(0.0, 2e-07)"
      ]
     },
     "execution_count": 71,
     "metadata": {},
     "output_type": "execute_result"
    },
    {
     "data": {
      "image/png": "[encoded data removed]",
      "text/plain": [
       "<Figure size 1080x360 with 3 Axes>"
      ]
     },
     "metadata": {
      "needs_background": "light"
     },
     "output_type": "display_data"
    }
   ],
   "source": [
    "g = sns.displot(\n",
    "    data = results[['mean prop error', 'median prop error', 'max prop error']].melt(),\n",
    "    x = 'value',\n",
    "    col = 'variable',\n",
    ")\n",
    "\n",
    "import matplotlib.pyplot as plt\n",
    "plt.xlim((0, 2e-7))"
   ]
  },
  {
   "cell_type": "markdown",
   "metadata": {},
   "source": [
    "### Looking at linear regressions\n",
    "\n",
    "Now we can build a similar dataframe for the linear regression results. The logic is very similar to the summary statistics; we are just using the `summarize_regressions` function instead:"
   ]
  },
  {
   "cell_type": "code",
   "execution_count": null,
   "metadata": {},
   "outputs": [],
   "source": [
    "import glob\n",
    "from tqdm.notebook import tqdm\n",
    "\n",
    "dfs = []\n",
    "\n",
    "for filepath in tqdm(glob.glob('/home/martin/Downloads/kaggle_test/*-*/*.csv')):\n",
    "    df = get_float_columns(filepath)\n",
    "    if df is not None:\n",
    "        summary = summarize_regressions(df)\n",
    "        if summary is not None:\n",
    "            summary['filepath'] = filepath\n",
    "            dfs.append(summary)\n",
    "        \n",
    "regressions = pd.concat(dfs)"
   ]
  },
  {
   "cell_type": "code",
   "execution_count": 16,
   "metadata": {},
   "outputs": [],
   "source": [
    "#hide\n",
    "\n",
    "regressions.to_csv('regressions.csv', index=False)"
   ]
  },
  {
   "cell_type": "markdown",
   "metadata": {},
   "source": [
    "If you want to play with the data, you can [download a compressed version here](https://github.com/mojones/dfd_jupyter_test/raw/master/_notebooks/regressions.csv.gz).\n",
    "\n",
    "The resulting dataframe has the same wide shape as before, but this time each row represents a regression result between two columns from the same data file. We have just over half a million regression results in total:"
   ]
  },
  {
   "cell_type": "code",
   "execution_count": 17,
   "metadata": {},
   "outputs": [
    {
     "data": {
      "text/html": [
       "<div>\n",
       "<style scoped>\n",
       "    .dataframe tbody tr th:only-of-type {\n",
       "        vertical-align: middle;\n",
       "    }\n",
       "\n",
       "    .dataframe tbody tr th {\n",
       "        vertical-align: top;\n",
       "    }\n",
       "\n",
       "    .dataframe thead th {\n",
       "        text-align: right;\n",
       "    }\n",
       "</style>\n",
       "<table border=\"1\" class=\"dataframe\">\n",
       "  <thead>\n",
       "    <tr style=\"text-align: right;\">\n",
       "      <th></th>\n",
       "      <th>x</th>\n",
       "      <th>y</th>\n",
       "      <th>...</th>\n",
       "      <th>pvalue_32</th>\n",
       "      <th>filepath</th>\n",
       "    </tr>\n",
       "  </thead>\n",
       "  <tbody>\n",
       "    <tr>\n",
       "      <th>0</th>\n",
       "      <td>BMI</td>\n",
       "      <td>DiabetesPedigreeFunction</td>\n",
       "      <td>...</td>\n",
       "      <td>9.197967e-05</td>\n",
       "      <td>/home/martin/Downloads/kaggle_test/uciml-pima-...</td>\n",
       "    </tr>\n",
       "    <tr>\n",
       "      <th>0</th>\n",
       "      <td>avg_rating</td>\n",
       "      <td>avg_rating_recent</td>\n",
       "      <td>...</td>\n",
       "      <td>0.000000e+00</td>\n",
       "      <td>/home/martin/Downloads/kaggle_test/jilkothari-...</td>\n",
       "    </tr>\n",
       "    <tr>\n",
       "      <th>1</th>\n",
       "      <td>avg_rating</td>\n",
       "      <td>rating</td>\n",
       "      <td>...</td>\n",
       "      <td>0.000000e+00</td>\n",
       "      <td>/home/martin/Downloads/kaggle_test/jilkothari-...</td>\n",
       "    </tr>\n",
       "    <tr>\n",
       "      <th>2</th>\n",
       "      <td>avg_rating_recent</td>\n",
       "      <td>rating</td>\n",
       "      <td>...</td>\n",
       "      <td>0.000000e+00</td>\n",
       "      <td>/home/martin/Downloads/kaggle_test/jilkothari-...</td>\n",
       "    </tr>\n",
       "    <tr>\n",
       "      <th>0</th>\n",
       "      <td>ts</td>\n",
       "      <td>co</td>\n",
       "      <td>...</td>\n",
       "      <td>1.964217e-60</td>\n",
       "      <td>/home/martin/Downloads/kaggle_test/garystaffor...</td>\n",
       "    </tr>\n",
       "    <tr>\n",
       "      <th>...</th>\n",
       "      <td>...</td>\n",
       "      <td>...</td>\n",
       "      <td>...</td>\n",
       "      <td>...</td>\n",
       "      <td>...</td>\n",
       "    </tr>\n",
       "    <tr>\n",
       "      <th>401</th>\n",
       "      <td>5a_credit_market_reg</td>\n",
       "      <td>5c_business_reg</td>\n",
       "      <td>...</td>\n",
       "      <td>3.433454e-65</td>\n",
       "      <td>/home/martin/Downloads/kaggle_test/gsutters-ec...</td>\n",
       "    </tr>\n",
       "    <tr>\n",
       "      <th>402</th>\n",
       "      <td>5a_credit_market_reg</td>\n",
       "      <td>5_regulation</td>\n",
       "      <td>...</td>\n",
       "      <td>1.517798e-237</td>\n",
       "      <td>/home/martin/Downloads/kaggle_test/gsutters-ec...</td>\n",
       "    </tr>\n",
       "    <tr>\n",
       "      <th>403</th>\n",
       "      <td>5b_labor_market_reg</td>\n",
       "      <td>5c_business_reg</td>\n",
       "      <td>...</td>\n",
       "      <td>1.834375e-50</td>\n",
       "      <td>/home/martin/Downloads/kaggle_test/gsutters-ec...</td>\n",
       "    </tr>\n",
       "    <tr>\n",
       "      <th>404</th>\n",
       "      <td>5b_labor_market_reg</td>\n",
       "      <td>5_regulation</td>\n",
       "      <td>...</td>\n",
       "      <td>5.207626e-224</td>\n",
       "      <td>/home/martin/Downloads/kaggle_test/gsutters-ec...</td>\n",
       "    </tr>\n",
       "    <tr>\n",
       "      <th>405</th>\n",
       "      <td>5c_business_reg</td>\n",
       "      <td>5_regulation</td>\n",
       "      <td>...</td>\n",
       "      <td>6.484023e-284</td>\n",
       "      <td>/home/martin/Downloads/kaggle_test/gsutters-ec...</td>\n",
       "    </tr>\n",
       "  </tbody>\n",
       "</table>\n",
       "<p>550136 rows × 11 columns</p>\n",
       "</div>"
      ],
      "text/plain": [
       "                        x                         y  ...      pvalue_32  \\\n",
       "0                     BMI  DiabetesPedigreeFunction  ...   9.197967e-05   \n",
       "0              avg_rating         avg_rating_recent  ...   0.000000e+00   \n",
       "1              avg_rating                    rating  ...   0.000000e+00   \n",
       "2       avg_rating_recent                    rating  ...   0.000000e+00   \n",
       "0                      ts                        co  ...   1.964217e-60   \n",
       "..                    ...                       ...  ...            ...   \n",
       "401  5a_credit_market_reg           5c_business_reg  ...   3.433454e-65   \n",
       "402  5a_credit_market_reg              5_regulation  ...  1.517798e-237   \n",
       "403   5b_labor_market_reg           5c_business_reg  ...   1.834375e-50   \n",
       "404   5b_labor_market_reg              5_regulation  ...  5.207626e-224   \n",
       "405       5c_business_reg              5_regulation  ...  6.484023e-284   \n",
       "\n",
       "                                              filepath  \n",
       "0    /home/martin/Downloads/kaggle_test/uciml-pima-...  \n",
       "0    /home/martin/Downloads/kaggle_test/jilkothari-...  \n",
       "1    /home/martin/Downloads/kaggle_test/jilkothari-...  \n",
       "2    /home/martin/Downloads/kaggle_test/jilkothari-...  \n",
       "0    /home/martin/Downloads/kaggle_test/garystaffor...  \n",
       "..                                                 ...  \n",
       "401  /home/martin/Downloads/kaggle_test/gsutters-ec...  \n",
       "402  /home/martin/Downloads/kaggle_test/gsutters-ec...  \n",
       "403  /home/martin/Downloads/kaggle_test/gsutters-ec...  \n",
       "404  /home/martin/Downloads/kaggle_test/gsutters-ec...  \n",
       "405  /home/martin/Downloads/kaggle_test/gsutters-ec...  \n",
       "\n",
       "[550136 rows x 11 columns]"
      ]
     },
     "execution_count": 17,
     "metadata": {},
     "output_type": "execute_result"
    }
   ],
   "source": [
    "regressions"
   ]
  },
  {
   "cell_type": "markdown",
   "metadata": {},
   "source": [
    "Because the number of pairwise comparisons increases with the square of the number of columns, the results are dominated by a small number of data files with many floating point columns:"
   ]
  },
  {
   "cell_type": "code",
   "execution_count": 18,
   "metadata": {},
   "outputs": [
    {
     "data": {
      "text/plain": [
       "/home/martin/Downloads/kaggle_test/rajanand-key-indicators-of-annual-health-survey/Key_indicator_districtwise.csv                           182710\n",
       "/home/martin/Downloads/kaggle_test/uciml-human-activity-recognition-with-smartphones/test.csv                                               157080\n",
       "/home/martin/Downloads/kaggle_test/uciml-human-activity-recognition-with-smartphones/train.csv                                              157080\n",
       "/home/martin/Downloads/kaggle_test/johnjdavisiv-us-counties-covid19-weather-sociohealth-data/US_counties_COVID19_health_weather_data.csv     11175\n",
       "/home/martin/Downloads/kaggle_test/johnjdavisiv-us-counties-covid19-weather-sociohealth-data/us_county_sociohealth_data.csv                   7260\n",
       "                                                                                                                                             ...  \n",
       "/home/martin/Downloads/kaggle_test/marcodena-mobile-phone-activity/mi-to-provinces-2013-11-07.csv                                                1\n",
       "/home/martin/Downloads/kaggle_test/russellyates88-suicide-rates-overview-1985-to-2016/master.csv                                                 1\n",
       "/home/martin/Downloads/kaggle_test/crowdflower-twitter-user-gender-classification/gender-classifier-DFE-791531.csv                               1\n",
       "/home/martin/Downloads/kaggle_test/PromptCloudHQ-imdb-data/IMDB-Movie-Data.csv                                                                   1\n",
       "/home/martin/Downloads/kaggle_test/claytonmiller-building-data-genome-project-v1/meta_open.csv                                                   1\n",
       "Name: filepath, Length: 289, dtype: int64"
      ]
     },
     "execution_count": 18,
     "metadata": {},
     "output_type": "execute_result"
    }
   ],
   "source": [
    "regressions['filepath'].value_counts()"
   ]
  },
  {
   "cell_type": "markdown",
   "metadata": {},
   "source": [
    "Out of our 919 data files, only 289 had at least two floating point columns. The data file with the most floating point columns contributes nearly two hundred thousand regression results!\n",
    "\n",
    "To get an overview of the difference for each property of the regression result, we can add new columns as we did before and summarize them:"
   ]
  },
  {
   "cell_type": "code",
   "execution_count": 76,
   "metadata": {},
   "outputs": [
    {
     "data": {
      "text/html": [
       "<div>\n",
       "<style scoped>\n",
       "    .dataframe tbody tr th:only-of-type {\n",
       "        vertical-align: middle;\n",
       "    }\n",
       "\n",
       "    .dataframe tbody tr th {\n",
       "        vertical-align: top;\n",
       "    }\n",
       "\n",
       "    .dataframe thead th {\n",
       "        text-align: right;\n",
       "    }\n",
       "</style>\n",
       "<table border=\"1\" class=\"dataframe\">\n",
       "  <thead>\n",
       "    <tr style=\"text-align: right;\">\n",
       "      <th></th>\n",
       "      <th>slope error</th>\n",
       "      <th>intercept error</th>\n",
       "      <th>rvalue error</th>\n",
       "      <th>pvalue error</th>\n",
       "    </tr>\n",
       "  </thead>\n",
       "  <tbody>\n",
       "    <tr>\n",
       "      <th>count</th>\n",
       "      <td>4.181990e+05</td>\n",
       "      <td>4.181990e+05</td>\n",
       "      <td>4.181990e+05</td>\n",
       "      <td>4.181990e+05</td>\n",
       "    </tr>\n",
       "    <tr>\n",
       "      <th>mean</th>\n",
       "      <td>4.237303e-04</td>\n",
       "      <td>7.675898e-05</td>\n",
       "      <td>4.237294e-04</td>\n",
       "      <td>1.471530e-06</td>\n",
       "    </tr>\n",
       "    <tr>\n",
       "      <th>std</th>\n",
       "      <td>2.486475e-02</td>\n",
       "      <td>1.618511e-02</td>\n",
       "      <td>2.486475e-02</td>\n",
       "      <td>8.407760e-06</td>\n",
       "    </tr>\n",
       "    <tr>\n",
       "      <th>min</th>\n",
       "      <td>0.000000e+00</td>\n",
       "      <td>2.753007e-13</td>\n",
       "      <td>0.000000e+00</td>\n",
       "      <td>0.000000e+00</td>\n",
       "    </tr>\n",
       "    <tr>\n",
       "      <th>25%</th>\n",
       "      <td>4.304286e-09</td>\n",
       "      <td>1.899837e-08</td>\n",
       "      <td>3.850181e-09</td>\n",
       "      <td>1.095305e-07</td>\n",
       "    </tr>\n",
       "    <tr>\n",
       "      <th>50%</th>\n",
       "      <td>1.669817e-08</td>\n",
       "      <td>3.986912e-08</td>\n",
       "      <td>1.547252e-08</td>\n",
       "      <td>3.511528e-07</td>\n",
       "    </tr>\n",
       "    <tr>\n",
       "      <th>75%</th>\n",
       "      <td>6.553311e-08</td>\n",
       "      <td>7.240586e-08</td>\n",
       "      <td>6.388698e-08</td>\n",
       "      <td>1.105768e-06</td>\n",
       "    </tr>\n",
       "    <tr>\n",
       "      <th>max</th>\n",
       "      <td>4.985437e+00</td>\n",
       "      <td>4.448138e+00</td>\n",
       "      <td>4.985437e+00</td>\n",
       "      <td>2.476720e-03</td>\n",
       "    </tr>\n",
       "  </tbody>\n",
       "</table>\n",
       "</div>"
      ],
      "text/plain": [
       "        slope error  intercept error  rvalue error  pvalue error\n",
       "count  4.181990e+05     4.181990e+05  4.181990e+05  4.181990e+05\n",
       "mean   4.237303e-04     7.675898e-05  4.237294e-04  1.471530e-06\n",
       "std    2.486475e-02     1.618511e-02  2.486475e-02  8.407760e-06\n",
       "min    0.000000e+00     2.753007e-13  0.000000e+00  0.000000e+00\n",
       "25%    4.304286e-09     1.899837e-08  3.850181e-09  1.095305e-07\n",
       "50%    1.669817e-08     3.986912e-08  1.547252e-08  3.511528e-07\n",
       "75%    6.553311e-08     7.240586e-08  6.388698e-08  1.105768e-06\n",
       "max    4.985437e+00     4.448138e+00  4.985437e+00  2.476720e-03"
      ]
     },
     "execution_count": 76,
     "metadata": {},
     "output_type": "execute_result"
    }
   ],
   "source": [
    "regressions['slope error'] = ((regressions['slope_64'] - regressions['slope_32']) / regressions['slope_64']).abs()\n",
    "regressions['intercept error'] = ((regressions['intercept_64'] - regressions['intercept_32']) / regressions['intercept_64']).abs()\n",
    "regressions['rvalue error'] = ((regressions['rvalue_64'] - regressions['rvalue_32']) / regressions['rvalue_64']).abs()\n",
    "regressions['pvalue error'] = ((regressions['pvalue_64'] - regressions['pvalue_32']) / regressions['pvalue_64']).abs()\n",
    "\n",
    "regressions[['slope error', 'intercept error', 'rvalue error', 'pvalue error']].dropna().describe()"
   ]
  },
  {
   "cell_type": "markdown",
   "metadata": {
    "run_control": {
     "marked": false
    }
   },
   "source": [
    "Notice that in the `count` row we can see how many of the comparisons gave meaningful (i.e. non-missing) output for the linear regressions on both the 64 and 32 bit versions.\n",
    "\n",
    "Remember that these are proportional errors i.e. the proportion by which the values change. Although the mean errors are a couple of orders of magnitude greater than for the summary statistics, they are still very small, and very unlikely to change any conclusions about the data. \n",
    "\n",
    "We have a very long tailed distribution for all four properties: the mean is several orders of magnitude higher than the median (50%) and the maximum values are several orders of magnitude higher again, suggesting a small number of extreme outliers. One way to show this is with a boxen plot:"
   ]
  },
  {
   "cell_type": "code",
   "execution_count": 77,
   "metadata": {
    "run_control": {
     "marked": false
    }
   },
   "outputs": [
    {
     "data": {
      "text/plain": [
       "<seaborn.axisgrid.FacetGrid at 0x7f60e525e1f0>"
      ]
     },
     "execution_count": 77,
     "metadata": {},
     "output_type": "execute_result"
    },
    {
     "data": {
      "image/png": "[encoded data removed]",
      "text/plain": [
       "<Figure size 720x360 with 1 Axes>"
      ]
     },
     "metadata": {
      "needs_background": "light"
     },
     "output_type": "display_data"
    }
   ],
   "source": [
    "sns.catplot(\n",
    "    data = regressions[['slope error', 'intercept error', 'rvalue error', 'pvalue error']].dropna().melt(),\n",
    "    x = 'variable',\n",
    "    y = 'value',\n",
    "    kind='boxen',\n",
    "    aspect = 2\n",
    ")"
   ]
  },
  {
   "cell_type": "markdown",
   "metadata": {},
   "source": [
    "The presence of the outliers make it impossible to see the distribution of the remaining values. If we plot the slope against the slope error, we can see that these outliers all represent regressions where the original slope was very near zero, suggesting no interesting relationship between the variables:"
   ]
  },
  {
   "cell_type": "code",
   "execution_count": 78,
   "metadata": {},
   "outputs": [
    {
     "data": {
      "text/plain": [
       "(-1e-08, 1e-08)"
      ]
     },
     "execution_count": 78,
     "metadata": {},
     "output_type": "execute_result"
    },
    {
     "data": {
      "image/png": "[encoded data removed]",
      "text/plain": [
       "<Figure size 360x360 with 1 Axes>"
      ]
     },
     "metadata": {
      "needs_background": "light"
     },
     "output_type": "display_data"
    }
   ],
   "source": [
    "sns.relplot(\n",
    "    data = regressions,\n",
    "    x = 'slope_64',\n",
    "    y = 'slope error'\n",
    ")\n",
    "\n",
    "plt.xlim(-1e-8,1e-8)"
   ]
  },
  {
   "cell_type": "markdown",
   "metadata": {},
   "source": [
    "The same is true for the intercept:"
   ]
  },
  {
   "cell_type": "code",
   "execution_count": 79,
   "metadata": {},
   "outputs": [
    {
     "data": {
      "text/plain": [
       "(-1e-05, 1e-05)"
      ]
     },
     "execution_count": 79,
     "metadata": {},
     "output_type": "execute_result"
    },
    {
     "data": {
      "image/png": "[encoded data removed]",
      "text/plain": [
       "<Figure size 360x360 with 1 Axes>"
      ]
     },
     "metadata": {
      "needs_background": "light"
     },
     "output_type": "display_data"
    }
   ],
   "source": [
    "sns.relplot(\n",
    "    data = regressions,\n",
    "    x = 'intercept_64',\n",
    "    y = 'intercept error'\n",
    ")\n",
    "\n",
    "plt.xlim(-1e-5,1e-5)"
   ]
  },
  {
   "cell_type": "markdown",
   "metadata": {},
   "source": [
    "An alternative way of looking at the pvalue error is to ask whether the change in pvalue would result in a difference in whether the relationship was considered significant. Setting aside the problems with interpreting pvalues in this way, we can use pandas to find any regressions where one version of the regression was significant at the 5% level and the other wasn't:"
   ]
  },
  {
   "cell_type": "code",
   "execution_count": 81,
   "metadata": {},
   "outputs": [
    {
     "data": {
      "text/plain": [
       "False    418199\n",
       "dtype: int64"
      ]
     },
     "execution_count": 81,
     "metadata": {},
     "output_type": "execute_result"
    }
   ],
   "source": [
    "((regressions.dropna()['pvalue_64'] < 0.05) != (regressions.dropna()['pvalue_32'] < 0.05)).value_counts()"
   ]
  },
  {
   "cell_type": "markdown",
   "metadata": {},
   "source": [
    "In the ~400,000 out of our ~500,000 comparisions that had no missing data, there were no such cases.\n",
    "\n",
    "## Conclusion\n",
    "\n",
    "It looks like in real world datasets, switching from 64 bit to 32 bit precision for floating point numbers has a vanishingly small chance of affecting our conclusions, and we should probably do it without fear when trying to minimize memory usage.\n",
    "\n",
    "If you've made it this far, you should definitely subscribe to the [Drawing from Data newsletter](https://drawingfromdata.com/newsletter/), [follow me on Twitter](https://twitter.com/DataDrawing), or buy the [Drawing from Data book](https://drawingfromdata.com/book/)!"
   ]
  }
 ],
 "metadata": {
  "kernelspec": {
   "display_name": "drawing_from_dat",
   "language": "python",
   "name": "drawing_from_dat"
  },
  "language_info": {
   "codemirror_mode": {
    "name": "ipython",
    "version": 3
   },
   "file_extension": ".py",
   "mimetype": "text/x-python",
   "name": "python",
   "nbconvert_exporter": "python",
   "pygments_lexer": "ipython3",
   "version": "3.8.5"
  }
 },
 "nbformat": 4,
 "nbformat_minor": 4
}
